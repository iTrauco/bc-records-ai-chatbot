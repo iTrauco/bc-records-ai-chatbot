{
 "cells": [
  {
   "cell_type": "markdown",
   "id": "79cfdd02-71e8-4649-8082-a198224f96f5",
   "metadata": {},
   "source": [
    "# WRITE TO G SHEETS\n"
   ]
  },
  {
   "cell_type": "markdown",
   "id": "04f87d98-75bc-4520-b11c-1d0b8bbcc859",
   "metadata": {},
   "source": [
    "import pandas as pd\n",
    "import numpy as np\n",
    "import csv\n",
    "\n",
    "# For connect to google sheet\n",
    "import gspread\n",
    "from oauth2client.service_account import ServiceAccountCredentials\n",
    "from df2gspread import df2gspread as d2g"
   ]
  },
  {
   "cell_type": "code",
   "execution_count": null,
   "id": "82e81fad-fa3e-48d8-8309-9c250908c106",
   "metadata": {},
   "outputs": [],
   "source": [
    "\n",
    "#!/usr/bin/env python3\n",
    "# -*- coding: utf-8 -*-\n",
    "\n",
    "# import required modules\n",
    "\n",
    "\n",
    "import pandas as pd\n",
    "import numpy as np\n",
    "import csv\n",
    "\n",
    "# For connect to google sheet\n",
    "import gspread\n",
    "from oauth2client.service_account import ServiceAccountCredentials\n",
    "from df2gspread import df2gspread as d2g\n",
    "\n",
    "\n",
    "# Configure the connection\n",
    "scope = ['https://www.googleapis.com/auth/spreadsheets','https://www.googleapis.com/auth/drive']\n",
    "\n",
    "# Give the path to the Service Account Credential json file\n",
    "credentials = ServiceAccountCredentials.from_json_keyfile_name('/home/trauco/.config/gspread/bot1.json', scope)\n",
    "# Authorise your Notebook\n",
    "gc = gspread.authorize(credentials)\n",
    "\n",
    "file = 'intents'\n",
    "\n",
    "##### \n",
    "\n",
    "# https://docs.google.com/spreadsheets/d/1xVZggR--CldKqmYZX_2gdl1gEoJt9zclx9Zd7NkM2rg/edit#gid=157505975\n",
    "spreadsheet_key = \"1_p6Atx66Opq-CkXX1DMbm_P6t88XF0t5uv6UX-yhZAA\"\n",
    "\n",
    "# csv to df\n",
    "data = f\"{file}.csv\"\n",
    "df = pd.read_csv(data)\n",
    "df2 = df.reset_index()\n",
    "\n",
    "wks_name = 'output'\n",
    "cell_of_start_df = 'A1'\n",
    "# upload the dataframe of the clients we want to delete\n",
    "d2g.upload(df2,\n",
    "           spreadsheet_key,\n",
    "           wks_name,\n",
    "           credentials=credentials,\n",
    "           col_names=True,\n",
    "           row_names=False,\n",
    "           start_cell = cell_of_start_df,\n",
    "           clean=True)\n",
    "print ('The sheet is updated successfully')"
   ]
  },
  {
   "cell_type": "code",
   "execution_count": 5,
   "id": "bc04a87f-62ec-4839-aab6-61f65ca1166e",
   "metadata": {},
   "outputs": [
    {
     "ename": "ModuleNotFoundError",
     "evalue": "No module named 'gspread'",
     "output_type": "error",
     "traceback": [
      "\u001b[0;31m---------------------------------------------------------------------------\u001b[0m",
      "\u001b[0;31mModuleNotFoundError\u001b[0m                       Traceback (most recent call last)",
      "Cell \u001b[0;32mIn[5], line 1\u001b[0m\n\u001b[0;32m----> 1\u001b[0m \u001b[38;5;28;01mimport\u001b[39;00m \u001b[38;5;21;01mgspread\u001b[39;00m\n\u001b[1;32m      2\u001b[0m \u001b[38;5;28;01mfrom\u001b[39;00m \u001b[38;5;21;01moauth2client\u001b[39;00m\u001b[38;5;21;01m.\u001b[39;00m\u001b[38;5;21;01mservice_account\u001b[39;00m \u001b[38;5;28;01mimport\u001b[39;00m ServiceAccountCredentials\n\u001b[1;32m      3\u001b[0m \u001b[38;5;28;01mfrom\u001b[39;00m \u001b[38;5;21;01mdf2gspread\u001b[39;00m \u001b[38;5;28;01mimport\u001b[39;00m df2gspread \u001b[38;5;28;01mas\u001b[39;00m d2g\n",
      "\u001b[0;31mModuleNotFoundError\u001b[0m: No module named 'gspread'"
     ]
    }
   ],
   "source": [
    "\n",
    "import gspread\n",
    "from oauth2client.service_account import ServiceAccountCredentials\n",
    "from df2gspread import df2gspread as d2g"
   ]
  },
  {
   "cell_type": "code",
   "execution_count": null,
   "id": "074fcc5c-ff30-452d-87cb-9c9c480aedd7",
   "metadata": {},
   "outputs": [],
   "source": [
    "#######\n",
    "# Read Sheet Data\n",
    "\n",
    "# import modules\n",
    "import gspread\n",
    "from google.oauth2.service_account import Credentials\n",
    "import pandas as pd\n",
    "import csv\n",
    "\n",
    "# scopes\n",
    "scope = ['https://www.googleapis.com/auth/spreadsheets',\n",
    "        'https://www.googleapis.com/auth/drive']\n",
    "\n",
    "creds = Credentials.from_service_account_file(\"/home/trauco/.config/secrets/bot1.json\", scopes=scope)\n",
    "\n",
    "\n",
    "client = gspread.authorize(creds)\n",
    "google_sh = client.open(\"intents_script_writer\")\n",
    "\n",
    "sheet1 = google_sh.get_worksheet(0)\n",
    "df = pd.DataFrame(data=sheet1.get_all_values())\n",
    "print(df)\n",
    "\n",
    "df.to_csv('/intents.sh', index=False, header=False, escapechar=\"\\n\",doublequote=False, quoting=csv.QUOTE_NONE)\n",
    "\n"
   ]
  },
  {
   "cell_type": "code",
   "execution_count": null,
   "id": "7b7f4e30-bc7c-4664-bee8-3d34d0b94a51",
   "metadata": {},
   "outputs": [],
   "source": [
    "df.to_csv('test_config.zsh', index=False, header=False, escapechar=\"\\n\",doublequote=False, quoting=csv.QUOTE_NONE)\n"
   ]
  },
  {
   "cell_type": "markdown",
   "id": "1fa4c50f-f5d9-4e05-9f81-2b7ba8beb5f0",
   "metadata": {},
   "source": [
    "# "
   ]
  },
  {
   "cell_type": "markdown",
   "id": "8308a59a-dc61-4602-ac8f-8c8f9d15c28f",
   "metadata": {},
   "source": [
    "# "
   ]
  }
 ],
 "metadata": {
  "kernelspec": {
   "display_name": "Python 3 (ipykernel)",
   "language": "python",
   "name": "python3"
  },
  "language_info": {
   "codemirror_mode": {
    "name": "ipython",
    "version": 3
   },
   "file_extension": ".py",
   "mimetype": "text/x-python",
   "name": "python",
   "nbconvert_exporter": "python",
   "pygments_lexer": "ipython3",
   "version": "3.10.12"
  }
 },
 "nbformat": 4,
 "nbformat_minor": 5
}
