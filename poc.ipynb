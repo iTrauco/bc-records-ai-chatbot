{
 "cells": [
  {
   "cell_type": "markdown",
   "id": "79cfdd02-71e8-4649-8082-a198224f96f5",
   "metadata": {},
   "source": [
    "# WRITE TO G SHEETS\n"
   ]
  },
  {
   "cell_type": "markdown",
   "id": "04f87d98-75bc-4520-b11c-1d0b8bbcc859",
   "metadata": {},
   "source": [
    "import pandas as pd\n",
    "import numpy as np\n",
    "import csv\n",
    "\n",
    "# For connect to google sheet\n",
    "import gspread\n",
    "from oauth2client.service_account import ServiceAccountCredentials\n",
    "from df2gspread import df2gspread as d2g"
   ]
  },
  {
   "cell_type": "code",
   "execution_count": null,
   "id": "82e81fad-fa3e-48d8-8309-9c250908c106",
   "metadata": {},
   "outputs": [],
   "source": [
    "\n",
    "#!/usr/bin/env python3\n",
    "# -*- coding: utf-8 -*-\n",
    "\n",
    "# import required modules\n",
    "\n",
    "\n",
    "import pandas as pd\n",
    "import numpy as np\n",
    "import csv\n",
    "\n",
    "# For connect to google sheet\n",
    "import gspread\n",
    "from oauth2client.service_account import ServiceAccountCredentials\n",
    "from df2gspread import df2gspread as d2g\n",
    "\n",
    "\n",
    "# Configure the connection\n",
    "scope = ['https://www.googleapis.com/auth/spreadsheets','https://www.googleapis.com/auth/drive']\n",
    "\n",
    "# Give the path to the Service Account Credential json file\n",
    "credentials = ServiceAccountCredentials.from_json_keyfile_name('/home/trauco/.config/gspread/bot1.json', scope)\n",
    "# Authorise your Notebook\n",
    "gc = gspread.authorize(credentials)\n",
    "\n",
    "file = 'intents'\n",
    "\n",
    "##### \n",
    "\n",
    "# https://docs.google.com/spreadsheets/d/1xVZggR--CldKqmYZX_2gdl1gEoJt9zclx9Zd7NkM2rg/edit#gid=157505975\n",
    "spreadsheet_key = \"1_p6Atx66Opq-CkXX1DMbm_P6t88XF0t5uv6UX-yhZAA\"\n",
    "\n",
    "# csv to df\n",
    "data = f\"{file}.csv\"\n",
    "df = pd.read_csv(data)\n",
    "df2 = df.reset_index()\n",
    "\n",
    "wks_name = 'output'\n",
    "cell_of_start_df = 'A1'\n",
    "# upload the dataframe of the clients we want to delete\n",
    "d2g.upload(df2,\n",
    "           spreadsheet_key,\n",
    "           wks_name,\n",
    "           credentials=credentials,\n",
    "           col_names=True,\n",
    "           row_names=False,\n",
    "           start_cell = cell_of_start_df,\n",
    "           clean=True)\n",
    "print ('The sheet is updated successfully')"
   ]
  },
  {
   "cell_type": "code",
   "execution_count": null,
   "id": "bc04a87f-62ec-4839-aab6-61f65ca1166e",
   "metadata": {},
   "outputs": [],
   "source": [
    "\n",
    "import gspread\n",
    "from oauth2client.service_account import ServiceAccountCredentials\n",
    "from df2gspread import df2gspread as d2g"
   ]
  },
  {
   "cell_type": "code",
   "execution_count": 2,
   "id": "074fcc5c-ff30-452d-87cb-9c9c480aedd7",
   "metadata": {},
   "outputs": [
    {
     "ename": "FileNotFoundError",
     "evalue": "[Errno 2] No such file or directory: '$HOME/.config/secrets/bot1.json'",
     "output_type": "error",
     "traceback": [
      "\u001b[0;31m---------------------------------------------------------------------------\u001b[0m",
      "\u001b[0;31mFileNotFoundError\u001b[0m                         Traceback (most recent call last)",
      "Cell \u001b[0;32mIn[2], line 14\u001b[0m\n\u001b[1;32m     10\u001b[0m \u001b[38;5;66;03m# scopes\u001b[39;00m\n\u001b[1;32m     11\u001b[0m scope \u001b[38;5;241m=\u001b[39m [\u001b[38;5;124m'\u001b[39m\u001b[38;5;124mhttps://www.googleapis.com/auth/spreadsheets\u001b[39m\u001b[38;5;124m'\u001b[39m,\n\u001b[1;32m     12\u001b[0m         \u001b[38;5;124m'\u001b[39m\u001b[38;5;124mhttps://www.googleapis.com/auth/drive\u001b[39m\u001b[38;5;124m'\u001b[39m]\n\u001b[0;32m---> 14\u001b[0m creds \u001b[38;5;241m=\u001b[39m \u001b[43mCredentials\u001b[49m\u001b[38;5;241;43m.\u001b[39;49m\u001b[43mfrom_service_account_file\u001b[49m\u001b[43m(\u001b[49m\u001b[38;5;124;43m\"\u001b[39;49m\u001b[38;5;124;43m$HOME/.config/secrets/bot1.json\u001b[39;49m\u001b[38;5;124;43m\"\u001b[39;49m\u001b[43m,\u001b[49m\u001b[43m \u001b[49m\u001b[43mscopes\u001b[49m\u001b[38;5;241;43m=\u001b[39;49m\u001b[43mscope\u001b[49m\u001b[43m)\u001b[49m\n\u001b[1;32m     17\u001b[0m client \u001b[38;5;241m=\u001b[39m gspread\u001b[38;5;241m.\u001b[39mauthorize(creds)\n\u001b[1;32m     18\u001b[0m google_sh \u001b[38;5;241m=\u001b[39m client\u001b[38;5;241m.\u001b[39mopen(\u001b[38;5;124m\"\u001b[39m\u001b[38;5;124mintents_script_writer\u001b[39m\u001b[38;5;124m\"\u001b[39m)\n",
      "File \u001b[0;32m~/bc-records/venv/lib/python3.10/site-packages/google/oauth2/service_account.py:260\u001b[0m, in \u001b[0;36mCredentials.from_service_account_file\u001b[0;34m(cls, filename, **kwargs)\u001b[0m\n\u001b[1;32m    248\u001b[0m \u001b[38;5;129m@classmethod\u001b[39m\n\u001b[1;32m    249\u001b[0m \u001b[38;5;28;01mdef\u001b[39;00m \u001b[38;5;21mfrom_service_account_file\u001b[39m(\u001b[38;5;28mcls\u001b[39m, filename, \u001b[38;5;241m*\u001b[39m\u001b[38;5;241m*\u001b[39mkwargs):\n\u001b[1;32m    250\u001b[0m \u001b[38;5;250m    \u001b[39m\u001b[38;5;124;03m\"\"\"Creates a Credentials instance from a service account json file.\u001b[39;00m\n\u001b[1;32m    251\u001b[0m \n\u001b[1;32m    252\u001b[0m \u001b[38;5;124;03m    Args:\u001b[39;00m\n\u001b[0;32m   (...)\u001b[0m\n\u001b[1;32m    258\u001b[0m \u001b[38;5;124;03m            credentials.\u001b[39;00m\n\u001b[1;32m    259\u001b[0m \u001b[38;5;124;03m    \"\"\"\u001b[39;00m\n\u001b[0;32m--> 260\u001b[0m     info, signer \u001b[38;5;241m=\u001b[39m \u001b[43m_service_account_info\u001b[49m\u001b[38;5;241;43m.\u001b[39;49m\u001b[43mfrom_filename\u001b[49m\u001b[43m(\u001b[49m\n\u001b[1;32m    261\u001b[0m \u001b[43m        \u001b[49m\u001b[43mfilename\u001b[49m\u001b[43m,\u001b[49m\u001b[43m \u001b[49m\u001b[43mrequire\u001b[49m\u001b[38;5;241;43m=\u001b[39;49m\u001b[43m[\u001b[49m\u001b[38;5;124;43m\"\u001b[39;49m\u001b[38;5;124;43mclient_email\u001b[39;49m\u001b[38;5;124;43m\"\u001b[39;49m\u001b[43m,\u001b[49m\u001b[43m \u001b[49m\u001b[38;5;124;43m\"\u001b[39;49m\u001b[38;5;124;43mtoken_uri\u001b[39;49m\u001b[38;5;124;43m\"\u001b[39;49m\u001b[43m]\u001b[49m\n\u001b[1;32m    262\u001b[0m \u001b[43m    \u001b[49m\u001b[43m)\u001b[49m\n\u001b[1;32m    263\u001b[0m     \u001b[38;5;28;01mreturn\u001b[39;00m \u001b[38;5;28mcls\u001b[39m\u001b[38;5;241m.\u001b[39m_from_signer_and_info(signer, info, \u001b[38;5;241m*\u001b[39m\u001b[38;5;241m*\u001b[39mkwargs)\n",
      "File \u001b[0;32m~/bc-records/venv/lib/python3.10/site-packages/google/auth/_service_account_info.py:78\u001b[0m, in \u001b[0;36mfrom_filename\u001b[0;34m(filename, require, use_rsa_signer)\u001b[0m\n\u001b[1;32m     64\u001b[0m \u001b[38;5;28;01mdef\u001b[39;00m \u001b[38;5;21mfrom_filename\u001b[39m(filename, require\u001b[38;5;241m=\u001b[39m\u001b[38;5;28;01mNone\u001b[39;00m, use_rsa_signer\u001b[38;5;241m=\u001b[39m\u001b[38;5;28;01mTrue\u001b[39;00m):\n\u001b[1;32m     65\u001b[0m \u001b[38;5;250m    \u001b[39m\u001b[38;5;124;03m\"\"\"Reads a Google service account JSON file and returns its parsed info.\u001b[39;00m\n\u001b[1;32m     66\u001b[0m \n\u001b[1;32m     67\u001b[0m \u001b[38;5;124;03m    Args:\u001b[39;00m\n\u001b[0;32m   (...)\u001b[0m\n\u001b[1;32m     76\u001b[0m \u001b[38;5;124;03m            info and a signer instance.\u001b[39;00m\n\u001b[1;32m     77\u001b[0m \u001b[38;5;124;03m    \"\"\"\u001b[39;00m\n\u001b[0;32m---> 78\u001b[0m     \u001b[38;5;28;01mwith\u001b[39;00m \u001b[43mio\u001b[49m\u001b[38;5;241;43m.\u001b[39;49m\u001b[43mopen\u001b[49m\u001b[43m(\u001b[49m\u001b[43mfilename\u001b[49m\u001b[43m,\u001b[49m\u001b[43m \u001b[49m\u001b[38;5;124;43m\"\u001b[39;49m\u001b[38;5;124;43mr\u001b[39;49m\u001b[38;5;124;43m\"\u001b[39;49m\u001b[43m,\u001b[49m\u001b[43m \u001b[49m\u001b[43mencoding\u001b[49m\u001b[38;5;241;43m=\u001b[39;49m\u001b[38;5;124;43m\"\u001b[39;49m\u001b[38;5;124;43mutf-8\u001b[39;49m\u001b[38;5;124;43m\"\u001b[39;49m\u001b[43m)\u001b[49m \u001b[38;5;28;01mas\u001b[39;00m json_file:\n\u001b[1;32m     79\u001b[0m         data \u001b[38;5;241m=\u001b[39m json\u001b[38;5;241m.\u001b[39mload(json_file)\n\u001b[1;32m     80\u001b[0m         \u001b[38;5;28;01mreturn\u001b[39;00m data, from_dict(data, require\u001b[38;5;241m=\u001b[39mrequire, use_rsa_signer\u001b[38;5;241m=\u001b[39muse_rsa_signer)\n",
      "\u001b[0;31mFileNotFoundError\u001b[0m: [Errno 2] No such file or directory: '$HOME/.config/secrets/bot1.json'"
     ]
    }
   ],
   "source": [
    "#######\n",
    "# Read Sheet Data\n",
    "\n",
    "# import modules\n",
    "import gspread\n",
    "from google.oauth2.service_account import Credentials\n",
    "import pandas as pd\n",
    "import csv\n",
    "\n",
    "# scopes\n",
    "scope = ['https://www.googleapis.com/auth/spreadsheets',\n",
    "        'https://www.googleapis.com/auth/drive']\n",
    "\n",
    "creds = Credentials.from_service_account_file(\"$HOME/.config/secrets/bot1.json\", scopes=scope)\n",
    "\n",
    "\n",
    "client = gspread.authorize(creds)\n",
    "google_sh = client.open(\"intents_script_writer\")\n",
    "\n",
    "sheet1 = google_sh.get_worksheet(0)\n",
    "df = pd.DataFrame(data=sheet1.get_all_values())\n",
    "\n",
    "df.to_csv('/intents.sh', index=False, header=False, escapechar=\"\\n\",doublequote=False, quoting=csv.QUOTE_NONE)\n",
    "\n",
    "print(df)"
   ]
  },
  {
   "cell_type": "code",
   "execution_count": null,
   "id": "7b7f4e30-bc7c-4664-bee8-3d34d0b94a51",
   "metadata": {},
   "outputs": [],
   "source": [
    "import gspread\n",
    "from google.oauth2.service_account import Credentials\n",
    "import pandas as pd\n",
    "import csv\n",
    "scope = ['https://www.googleapis.com/auth/spreadsheets',\n",
    "        'https://www.googleapis.com/auth/drive']\n",
    "creds = Credentials.from_service_account_file(\"~/.config/secrets/bot1.json\", scopes=scope)\n",
    "client = gspread.authorize(creds)\n",
    "google_sh = client.open(\"intents_script_writer\")\n",
    "sheet1 = google_sh.get_worksheet(0)\n",
    "df = pd.DataFrame(data=sheet1.get_all_values())\n",
    "print(df)\n",
    "             \n",
    "df.to_csv('test_config.zsh', index=False, header=False, escapechar=\"\\n\",doublequote=False, quoting=csv.QUOTE_NONE)\n"
   ]
  },
  {
   "cell_type": "code",
   "execution_count": null,
   "id": "fbae47d2-8a80-4545-bbbf-ed9fb698423c",
   "metadata": {},
   "outputs": [],
   "source": [
    "creds = Credentials.from_service_account_file(\"~/.config/secrets/bot1.json\", scopes=scope)\n",
    "client = gspread.authorize(creds)\n",
    "google_sh = client.open(\"intents_script_writer\")\n",
    "sheet1 = google_sh.get_worksheet(0)\n",
    "df = pd.DataFrame(data=sheet1.get_all_values())\n",
    "print(df)\n",
    "                                                   \n",
    "# df.to_csv('test_config.zsh', index=False, header=False, escapechar=\"\\n\",doublequote=False, quoting=csv.QUOTE_NONE)\n"
   ]
  },
  {
   "cell_type": "code",
   "execution_count": null,
   "id": "20e83c96-6d49-4db8-bce6-008a02f481c7",
   "metadata": {},
   "outputs": [],
   "source": [
    "#!/usr/bin/env python3\n",
    "# -*- coding: utf-8 -*-\n",
    "\n",
    "# import required modules\n",
    "\n",
    "import pandas as pd\n",
    "import numpy as np\n",
    "import csv\n",
    "\n",
    "# For connect to google sheet\n",
    "import gspread\n",
    "from oauth2client.service_account import ServiceAccountCredentials\n",
    "from df2gspread import df2gspread as d2g\n",
    "\n",
    "\n",
    "# Configure the connection\n",
    "scope = ['https://spreadsheets.google.com/feeds','https://www.googleapis.com/auth/spreadsheets','https://www.googleapis.com/auth/drive']\n",
    "\n",
    "# Give the path to the Service Account Credential json file\n",
    "credentials = ServiceAccountCredentials.from_json_keyfile_name('~/.config/secrets/bot1.json', scope)\n",
    "# Authorise your Notebook\n",
    "gc = gspread.authorize(credentials)\n",
    "\n",
    "file = 'groups'\n",
    "\n",
    "##### Trau.co Email Groups\n",
    "\n",
    "# https://docs.google.com/spreadsheets/d/1_Z7NKyuxHwCLe3BBYnc1lVVbuAOmHsRoBm9a1KzIC_o/edit#gid=0\n",
    "spreadsheet_key = \"1X6SJZ0rlVuqhbNdsfYLTnaSXQOgRKWQY7NR2DRiIgB\"\n",
    "\n",
    "# csv to df\n",
    "data = f\"{file}.csv\"\n",
    "df = pd.read_csv(data)\n",
    "df2 = df.reset_index()\n",
    "\n",
    "wks_name = 'Data'\n",
    "cell_of_start_df = 'A1'\n",
    "# upload the dataframe of the clients we want to delete\n",
    "d2g.upload(df2,\n",
    "           spreadsheet_key,\n",
    "           wks_name,\n",
    "           credentials=credentials,\n",
    "           col_names=True,\n",
    "           row_names=False,\n",
    "           start_cell = cell_of_start_df,\n",
    "           clean=True)\n",
    "print ('The sheet is updated successfully')\n",
    "\n"
   ]
  },
  {
   "cell_type": "markdown",
   "id": "8308a59a-dc61-4602-ac8f-8c8f9d15c28f",
   "metadata": {},
   "source": [
    "# "
   ]
  }
 ],
 "metadata": {
  "kernelspec": {
   "display_name": "Python 3 (ipykernel)",
   "language": "python",
   "name": "python3"
  },
  "language_info": {
   "codemirror_mode": {
    "name": "ipython",
    "version": 3
   },
   "file_extension": ".py",
   "mimetype": "text/x-python",
   "name": "python",
   "nbconvert_exporter": "python",
   "pygments_lexer": "ipython3",
   "version": "3.10.12"
  }
 },
 "nbformat": 4,
 "nbformat_minor": 5
}
